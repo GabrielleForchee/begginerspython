{
 "cells": [
  {
   "cell_type": "markdown",
   "id": "c0e479d5-40ed-4b2a-b7c5-9ded073cc87b",
   "metadata": {},
   "source": [
    "BMI Calculator - First Python Mini Project\n",
    "    https://www.nhlbi.nih.gov/health/educational/lose_wt/BMI/bmicalc.htm"
   ]
  },
  {
   "cell_type": "code",
   "execution_count": 53,
   "id": "b22545c2-b151-49eb-9dda-1a66781ad93c",
   "metadata": {},
   "outputs": [
    {
     "name": "stdin",
     "output_type": "stream",
     "text": [
      "Enter your name Gabs\n",
      "Enter your weight in pounds:  192\n",
      "Enter your height in inches:  70\n"
     ]
    },
    {
     "name": "stdout",
     "output_type": "stream",
     "text": [
      "27.54612244897959\n",
      "Gabs, you are considered overweight.\n"
     ]
    }
   ],
   "source": [
    "name = input(\"Enter your name\")\n",
    "weight = int(input(\"Enter your weight in pounds: \"))\n",
    "height = int(input(\"Enter your height in inches: \"))\n",
    "BMI = (weight * 703) / (height * height )\n",
    "\n",
    "\n",
    "print(BMI)\n",
    "\n",
    "if BMI>0:\n",
    "    if(BMI<18.5):\n",
    "            print(name +\", you are considered underweight.\")\n",
    "    elif(BMI<=24.9):\n",
    "             print(name +\", you are considered a normal weight.\")\n",
    "    elif(BMI<29.9):\n",
    "            print(name +\", you are considered overweight.\")\n",
    "    elif(BMI<34.9):\n",
    "            print(name +\", you are considered obese.\")\n",
    "    elif(BMI<39.9):\n",
    "            print(name +\", you are considered severely obese.\")\n",
    "    else:\n",
    "        print(name +\", you are considered morbidly obese\")\n",
    "\n",
    "else:\n",
    "    print(\"Enter valid input\")\n",
    "        "
   ]
  },
  {
   "cell_type": "markdown",
   "id": "2fb8042c-1907-419b-b52c-c4c5e7e4efe0",
   "metadata": {},
   "source": []
  },
  {
   "cell_type": "code",
   "execution_count": null,
   "id": "1fdbbe4b-de4f-45dd-99d6-a70c10fe6c24",
   "metadata": {},
   "outputs": [],
   "source": []
  },
  {
   "cell_type": "code",
   "execution_count": null,
   "id": "3a05b3c6-8b22-43e3-a0cc-125d966af967",
   "metadata": {},
   "outputs": [],
   "source": []
  },
  {
   "cell_type": "code",
   "execution_count": null,
   "id": "15e5d9f4-9ee1-440a-b543-de5c0386c18d",
   "metadata": {},
   "outputs": [],
   "source": []
  },
  {
   "cell_type": "code",
   "execution_count": null,
   "id": "bdec54ec-3b18-43f9-85cd-c8a09cde2be5",
   "metadata": {},
   "outputs": [],
   "source": [
    "#BMI = (weight in pounds x 703) / (height in inches x height in inches)"
   ]
  },
  {
   "cell_type": "code",
   "execution_count": null,
   "id": "1c2bd336-6a2f-41d4-8cb8-5ace3d749162",
   "metadata": {},
   "outputs": [],
   "source": [
    "print(weight)"
   ]
  },
  {
   "cell_type": "code",
   "execution_count": null,
   "id": "2b68915b-ba1d-4323-a416-315f636b31aa",
   "metadata": {},
   "outputs": [],
   "source": [
    "Underweight = <18.5\n",
    "Normal weight = 18.5–24.9\n",
    "Overweight = 25–29.9\n",
    "Obesity = BMI of 30 or greater"
   ]
  },
  {
   "cell_type": "code",
   "execution_count": 51,
   "id": "fb7988b7-63d0-489b-9a85-d44e913b7b74",
   "metadata": {},
   "outputs": [
    {
     "name": "stdout",
     "output_type": "stream",
     "text": [
      "Gabs, you are considered overweight.\n"
     ]
    }
   ],
   "source": [
    "if BMI>0:\n",
    "    if(BMI<18.5):\n",
    "            print(name +\", you are considered underweight.\")\n",
    "    elif(BMI<=24.9):\n",
    "             print(name +\", you are considered a normal weight.\")\n",
    "    elif(BMI<29.9):\n",
    "            print(name +\", you are considered overweight.\")\n",
    "    elif(BMI<34.9):\n",
    "            print(name +\", you are considered obese.\")\n",
    "    elif(BMI<39.9):\n",
    "            print(name +\", you are considered severely obese.\")\n",
    "    else:\n",
    "        print(name +\", you are considered morbidly obese\")\n",
    "\n",
    "else:\n",
    "    print(\"Enter valid input\")\n",
    "        "
   ]
  },
  {
   "cell_type": "code",
   "execution_count": null,
   "id": "d92b20a3-d67b-4531-b9bf-679023bad8d6",
   "metadata": {},
   "outputs": [],
   "source": []
  },
  {
   "cell_type": "code",
   "execution_count": null,
   "id": "50a85e6d-b80c-443c-a048-f9acb89849d3",
   "metadata": {},
   "outputs": [],
   "source": []
  },
  {
   "cell_type": "code",
   "execution_count": null,
   "id": "f03aa880-fb2b-4b85-b6a7-e489ea91126c",
   "metadata": {},
   "outputs": [],
   "source": []
  },
  {
   "cell_type": "code",
   "execution_count": null,
   "id": "1fefd7eb-f966-4e77-9569-bbaf0a0d7d15",
   "metadata": {},
   "outputs": [],
   "source": []
  },
  {
   "cell_type": "code",
   "execution_count": null,
   "id": "eda7f22c-f55d-4fdd-8cdc-af9d7c000390",
   "metadata": {},
   "outputs": [],
   "source": []
  }
 ],
 "metadata": {
  "kernelspec": {
   "display_name": "Python 3 (ipykernel)",
   "language": "python",
   "name": "python3"
  },
  "language_info": {
   "codemirror_mode": {
    "name": "ipython",
    "version": 3
   },
   "file_extension": ".py",
   "mimetype": "text/x-python",
   "name": "python",
   "nbconvert_exporter": "python",
   "pygments_lexer": "ipython3",
   "version": "3.12.4"
  }
 },
 "nbformat": 4,
 "nbformat_minor": 5
}
